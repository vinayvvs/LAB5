{
  "nbformat": 4,
  "nbformat_minor": 0,
  "metadata": {
    "colab": {
      "name": "LAB5.ipynb",
      "provenance": []
    },
    "kernelspec": {
      "name": "python3",
      "display_name": "Python 3"
    }
  },
  "cells": [
    {
      "cell_type": "code",
      "metadata": {
        "id": "JEP9XQeLrKj9",
        "colab_type": "code",
        "colab": {
          "base_uri": "https://localhost:8080/",
          "height": 34
        },
        "outputId": "6e45cdd0-501f-4bcb-c93c-ab51140c446a"
      },
      "source": [
        "#TASK 1\n",
        "import math\n",
        "class Point():\n",
        "  def __init__(self,x,y):\n",
        "      self.x=x\n",
        "      self.y=y\n",
        "\n",
        "p1=Point(1,9)\n",
        "p2=Point(4,5)\n",
        "def  distance_between_points(p1,p2):\n",
        "      d=math.sqrt((p2.x - p1.x)**2 + (p2.y - p1.y)**2)\n",
        "      return d \n",
        "print(distance_between_points(p1,p2))"
      ],
      "execution_count": 21,
      "outputs": [
        {
          "output_type": "stream",
          "text": [
            "5.0\n"
          ],
          "name": "stdout"
        }
      ]
    },
    {
      "cell_type": "code",
      "metadata": {
        "id": "rKqzy7VgH8WT",
        "colab_type": "code",
        "colab": {}
      },
      "source": [
        ""
      ],
      "execution_count": 0,
      "outputs": []
    }
  ]
}