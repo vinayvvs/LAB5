{
  "nbformat": 4,
  "nbformat_minor": 0,
  "metadata": {
    "colab": {
      "name": "LAB5.ipynb",
      "provenance": []
    },
    "kernelspec": {
      "name": "python3",
      "display_name": "Python 3"
    }
  },
  "cells": [
    {
      "cell_type": "code",
      "metadata": {
        "id": "JEP9XQeLrKj9",
        "colab_type": "code",
        "colab": {
          "base_uri": "https://localhost:8080/",
          "height": 51
        },
        "outputId": "48a9a333-afd8-47a6-9fc3-ef0b195c0757"
      },
      "source": [
        "#TASK 1\n",
        "import math\n",
        "class Point():\n",
        "  def __init__(self,x,y):\n",
        "      self.x=x\n",
        "      self.y=y\n",
        "  def __add__(self,other):\n",
        "        x = self.x + other.x\n",
        "        y = self.y + other.y\n",
        "        return Point(x,y)\n",
        "  \n",
        "  def __str__(self):\n",
        "      return str(self.x) +','+ str(self.y)\n",
        "  def __repr__(self):\n",
        "      return self.__str__()   \n",
        "\n",
        "p1=Point(1,9)\n",
        "p2=Point(4,5)\n",
        "\n",
        "def  distance_between_points(p1,p2):\n",
        "      d=math.sqrt((p2.x - p1.x)**2 + (p2.y - p1.y)**2)\n",
        "      return d \n",
        "print(distance_between_points(p1,p2))\n",
        "print(p1+p2)\n"
      ],
      "execution_count": 127,
      "outputs": [
        {
          "output_type": "stream",
          "text": [
            "5.0\n",
            "5,14\n"
          ],
          "name": "stdout"
        }
      ]
    },
    {
      "cell_type": "code",
      "metadata": {
        "id": "rKqzy7VgH8WT",
        "colab_type": "code",
        "colab": {
          "base_uri": "https://localhost:8080/",
          "height": 85
        },
        "outputId": "f839ebfa-94ee-463f-996a-81dbf6933c22"
      },
      "source": [
        "#TASK2\n",
        "class Point():\n",
        "  def __init__(self,x,y):\n",
        "      self.x=x\n",
        "      self.y=y\n",
        "  \n",
        "  def __str__(self):\n",
        "      return str(self.x) +','+ str(self.y)\n",
        "  def __repr__(self):\n",
        "      return self.__str__()    \n",
        "class Rectangle():\n",
        "    \n",
        "    def __init__(self, width, height, corner):\n",
        "        self.width = width\n",
        "        self.height = height\n",
        "        self.corner = corner\n",
        "    def __str__(self):\n",
        "        return str(self.width) +','+ str(self.height)+',' +str(self.corner)\n",
        "    def __repr__(self):\n",
        "        return self.__str__()\n",
        "# Rectangle.width = 100\n",
        "# Rectangle.height = 200\n",
        "# Rectangle.corner  = p1\n",
        "# rect=Rectangle(100,200,Point(0,0))\n",
        "p1=Point(0,0)\n",
        "rect=Rectangle(100,200,p1)\n",
        "print(p1)\n",
        "print(rect)\n",
        "def find_center(rect):\n",
        "    # p = Point(x,y)\n",
        "    a= rect.corner.x + rect.width/2\n",
        "    b = rect.corner.y + rect.height/2\n",
        "    return a,b\n",
        "print(find_center(rect))\n",
        "\n",
        "def move_rectangle(rect,dx,dy):\n",
        "  rect.corner.x += dx\n",
        "  rect.corner.y += dy\n",
        "  return rect.corner.x,rect.corner.y\n",
        "move_rectangle(rect, 3.0, 3.0)\n"
      ],
      "execution_count": 114,
      "outputs": [
        {
          "output_type": "stream",
          "text": [
            "0,0\n",
            "100,200,0,0\n",
            "(50.0, 100.0)\n"
          ],
          "name": "stdout"
        },
        {
          "output_type": "execute_result",
          "data": {
            "text/plain": [
              "(3.0, 3.0)"
            ]
          },
          "metadata": {
            "tags": []
          },
          "execution_count": 114
        }
      ]
    },
    {
      "cell_type": "code",
      "metadata": {
        "id": "n0hf9YuQILcA",
        "colab_type": "code",
        "colab": {
          "base_uri": "https://localhost:8080/",
          "height": 34
        },
        "outputId": "feca6fa0-f86a-4ce2-ea52-b999c18d36a0"
      },
      "source": [
        "# Task4\n",
        "class Time:\n",
        "  pass\n",
        "  def __str__(self,t):\n",
        "    print('%.2d:%.2d:%.2d' % (t.hour, t.minute, t.second))\n",
        "time = Time()\n",
        "time.hour = 12\n",
        "time.minute = 0\n",
        "time.second = 0\n",
        "\n",
        "print_time(time)\n",
        "\n",
        "def is_after(t1,t2):\n",
        "    a=3600*t1.hour+60*t1.minute+t1.second\n",
        "    b=3600*t2.hour+60*t2.minute+t2.second\n",
        "    return a>b \n"
      ],
      "execution_count": 138,
      "outputs": [
        {
          "output_type": "stream",
          "text": [
            "12:00:00\n"
          ],
          "name": "stdout"
        }
      ]
    },
    {
      "cell_type": "code",
      "metadata": {
        "id": "nN91yfHETb62",
        "colab_type": "code",
        "colab": {
          "base_uri": "https://localhost:8080/",
          "height": 51
        },
        "outputId": "898b1682-3d2c-4dfb-e93d-d4091c5ec25f"
      },
      "source": [
        "# Task5\n",
        "class Kangaroo:\n",
        "  def __init__(self,pouch_contents):\n",
        "    if pouch_contents is None:\n",
        "            pouch_contents = []\n",
        "    else:\n",
        "            self.pouch_contents = pouch_contents\n",
        "  def put_in_pouch(self,x):\n",
        "    self.pouch_contents.append(x)\n",
        "    return self.pouch_contents\n",
        "  \n",
        "  def __str__(self):\n",
        "    return 'kangaroo has' + str(self.pouch_contents) \n",
        "\n",
        "  def __repr__(self):\n",
        "        return self.__str__()  \n",
        "\n",
        "kanga = Kangaroo([1,2])\n",
        "roo = Kangaroo([3,4])\n",
        "a=kanga.put_in_pouch(roo.pouch_contents)\n",
        "print(kanga)\n",
        "print(a)"
      ],
      "execution_count": 172,
      "outputs": [
        {
          "output_type": "stream",
          "text": [
            "kangaroo has[1, 2, [3, 4]]\n",
            "[1, 2, [3, 4]]\n"
          ],
          "name": "stdout"
        }
      ]
    }
  ]
}