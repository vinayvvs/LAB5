{
  "nbformat": 4,
  "nbformat_minor": 0,
  "metadata": {
    "colab": {
      "name": "LAB5.ipynb",
      "provenance": []
    },
    "kernelspec": {
      "name": "python3",
      "display_name": "Python 3"
    }
  },
  "cells": [
    {
      "cell_type": "code",
      "metadata": {
        "id": "JEP9XQeLrKj9",
        "colab_type": "code",
        "colab": {
          "base_uri": "https://localhost:8080/",
          "height": 34
        },
        "outputId": "9c18eb31-bedc-4a6f-db52-319f04f11c91"
      },
      "source": [
        "#TASK 1\n",
        "import math\n",
        "class Point():\n",
        "  def __init__(self,x,y):\n",
        "      self.x=x\n",
        "      self.y=y\n",
        "\n",
        "p1=Point(1,9)\n",
        "p2=Point(4,5)\n",
        "def  distance_between_points(p1,p2):\n",
        "      d=math.sqrt((p2.x - p1.x)**2 + (p2.y - p1.y)**2)\n",
        "      return d \n",
        "print(distance_between_points(p1,p2))"
      ],
      "execution_count": 38,
      "outputs": [
        {
          "output_type": "stream",
          "text": [
            "5.0\n"
          ],
          "name": "stdout"
        }
      ]
    },
    {
      "cell_type": "code",
      "metadata": {
        "id": "rKqzy7VgH8WT",
        "colab_type": "code",
        "colab": {
          "base_uri": "https://localhost:8080/",
          "height": 85
        },
        "outputId": "f839ebfa-94ee-463f-996a-81dbf6933c22"
      },
      "source": [
        "#TASK2\n",
        "class Point():\n",
        "  def __init__(self,x,y):\n",
        "      self.x=x\n",
        "      self.y=y\n",
        "  \n",
        "  def __str__(self):\n",
        "      return str(self.x) +','+ str(self.y)\n",
        "  def __repr__(self):\n",
        "      return self.__str__()    \n",
        "class Rectangle():\n",
        "    \n",
        "    def __init__(self, width, height, corner):\n",
        "        self.width = width\n",
        "        self.height = height\n",
        "        self.corner = corner\n",
        "    def __str__(self):\n",
        "        return str(self.width) +','+ str(self.height)+',' +str(self.corner)\n",
        "    def __repr__(self):\n",
        "        return self.__str__()\n",
        "# Rectangle.width = 100\n",
        "# Rectangle.height = 200\n",
        "# Rectangle.corner  = p1\n",
        "# rect=Rectangle(100,200,Point(0,0))\n",
        "p1=Point(0,0)\n",
        "rect=Rectangle(100,200,p1)\n",
        "print(p1)\n",
        "print(rect)\n",
        "def find_center(rect):\n",
        "    # p = Point(x,y)\n",
        "    a= rect.corner.x + rect.width/2\n",
        "    b = rect.corner.y + rect.height/2\n",
        "    return a,b\n",
        "print(find_center(rect))\n",
        "\n",
        "def move_rectangle(rect,dx,dy):\n",
        "  rect.corner.x += dx\n",
        "  rect.corner.y += dy\n",
        "  return rect.corner.x,rect.corner.y\n",
        "move_rectangle(rect, 3.0, 3.0)\n"
      ],
      "execution_count": 114,
      "outputs": [
        {
          "output_type": "stream",
          "text": [
            "0,0\n",
            "100,200,0,0\n",
            "(50.0, 100.0)\n"
          ],
          "name": "stdout"
        },
        {
          "output_type": "execute_result",
          "data": {
            "text/plain": [
              "(3.0, 3.0)"
            ]
          },
          "metadata": {
            "tags": []
          },
          "execution_count": 114
        }
      ]
    },
    {
      "cell_type": "code",
      "metadata": {
        "id": "n0hf9YuQILcA",
        "colab_type": "code",
        "colab": {}
      },
      "source": [
        ""
      ],
      "execution_count": 0,
      "outputs": []
    }
  ]
}