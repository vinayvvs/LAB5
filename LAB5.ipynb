{
  "nbformat": 4,
  "nbformat_minor": 0,
  "metadata": {
    "colab": {
      "name": "LAB5.ipynb",
      "provenance": []
    },
    "kernelspec": {
      "name": "python3",
      "display_name": "Python 3"
    }
  },
  "cells": [
    {
      "cell_type": "code",
      "metadata": {
        "id": "JEP9XQeLrKj9",
        "colab_type": "code",
        "colab": {
          "base_uri": "https://localhost:8080/",
          "height": 51
        },
        "outputId": "48a9a333-afd8-47a6-9fc3-ef0b195c0757"
      },
      "source": [
        "#TASK 1\n",
        "import math\n",
        "class Point():\n",
        "  def __init__(self,x,y):\n",
        "      self.x=x\n",
        "      self.y=y\n",
        "  def __add__(self,other):\n",
        "        x = self.x + other.x\n",
        "        y = self.y + other.y\n",
        "        return Point(x,y)\n",
        "  \n",
        "  def __str__(self):\n",
        "      return str(self.x) +','+ str(self.y)\n",
        "  def __repr__(self):\n",
        "      return self.__str__()   \n",
        "\n",
        "p1=Point(1,9)\n",
        "p2=Point(4,5)\n",
        "\n",
        "def  distance_between_points(p1,p2):\n",
        "      d=math.sqrt((p2.x - p1.x)**2 + (p2.y - p1.y)**2)\n",
        "      return d \n",
        "print(distance_between_points(p1,p2))\n",
        "print(p1+p2)\n"
      ],
      "execution_count": 127,
      "outputs": [
        {
          "output_type": "stream",
          "text": [
            "5.0\n",
            "5,14\n"
          ],
          "name": "stdout"
        }
      ]
    },
    {
      "cell_type": "code",
      "metadata": {
        "id": "rKqzy7VgH8WT",
        "colab_type": "code",
        "colab": {
          "base_uri": "https://localhost:8080/",
          "height": 85
        },
        "outputId": "f839ebfa-94ee-463f-996a-81dbf6933c22"
      },
      "source": [
        "#TASK2\n",
        "class Point():\n",
        "  def __init__(self,x,y):\n",
        "      self.x=x\n",
        "      self.y=y\n",
        "  \n",
        "  def __str__(self):\n",
        "      return str(self.x) +','+ str(self.y)\n",
        "  def __repr__(self):\n",
        "      return self.__str__()    \n",
        "class Rectangle():\n",
        "    \n",
        "    def __init__(self, width, height, corner):\n",
        "        self.width = width\n",
        "        self.height = height\n",
        "        self.corner = corner\n",
        "    def __str__(self):\n",
        "        return str(self.width) +','+ str(self.height)+',' +str(self.corner)\n",
        "    def __repr__(self):\n",
        "        return self.__str__()\n",
        "# Rectangle.width = 100\n",
        "# Rectangle.height = 200\n",
        "# Rectangle.corner  = p1\n",
        "# rect=Rectangle(100,200,Point(0,0))\n",
        "p1=Point(0,0)\n",
        "rect=Rectangle(100,200,p1)\n",
        "print(p1)\n",
        "print(rect)\n",
        "def find_center(rect):\n",
        "    # p = Point(x,y)\n",
        "    a= rect.corner.x + rect.width/2\n",
        "    b = rect.corner.y + rect.height/2\n",
        "    return a,b\n",
        "print(find_center(rect))\n",
        "\n",
        "def move_rectangle(rect,dx,dy):\n",
        "  rect.corner.x += dx\n",
        "  rect.corner.y += dy\n",
        "  return rect.corner.x,rect.corner.y\n",
        "move_rectangle(rect, 3.0, 3.0)\n"
      ],
      "execution_count": 114,
      "outputs": [
        {
          "output_type": "stream",
          "text": [
            "0,0\n",
            "100,200,0,0\n",
            "(50.0, 100.0)\n"
          ],
          "name": "stdout"
        },
        {
          "output_type": "execute_result",
          "data": {
            "text/plain": [
              "(3.0, 3.0)"
            ]
          },
          "metadata": {
            "tags": []
          },
          "execution_count": 114
        }
      ]
    },
    {
      "cell_type": "code",
      "metadata": {
        "id": "n0hf9YuQILcA",
        "colab_type": "code",
        "colab": {
          "base_uri": "https://localhost:8080/",
          "height": 34
        },
        "outputId": "feca6fa0-f86a-4ce2-ea52-b999c18d36a0"
      },
      "source": [
        "# Task4\n",
        "class Time:\n",
        "  pass\n",
        "  def __str__(self,t):\n",
        "    print('%.2d:%.2d:%.2d' % (t.hour, t.minute, t.second))\n",
        "time = Time()\n",
        "time.hour = 12\n",
        "time.minute = 0\n",
        "time.second = 0\n",
        "\n",
        "print_time(time)\n",
        "\n",
        "def is_after(t1,t2):\n",
        "    a=3600*t1.hour+60*t1.minute+t1.second\n",
        "    b=3600*t2.hour+60*t2.minute+t2.second\n",
        "    return a>b \n"
      ],
      "execution_count": 138,
      "outputs": [
        {
          "output_type": "stream",
          "text": [
            "12:00:00\n"
          ],
          "name": "stdout"
        }
      ]
    },
    {
      "cell_type": "code",
      "metadata": {
        "id": "nN91yfHETb62",
        "colab_type": "code",
        "colab": {
          "base_uri": "https://localhost:8080/",
          "height": 51
        },
        "outputId": "898b1682-3d2c-4dfb-e93d-d4091c5ec25f"
      },
      "source": [
        "# Task5\n",
        "class Kangaroo:\n",
        "  def __init__(self,pouch_contents):\n",
        "    if pouch_contents is None:\n",
        "            pouch_contents = []\n",
        "    else:\n",
        "            self.pouch_contents = pouch_contents\n",
        "  def put_in_pouch(self,x):\n",
        "    self.pouch_contents.append(x)\n",
        "    return self.pouch_contents\n",
        "  \n",
        "  def __str__(self):\n",
        "    return 'kangaroo has' + str(self.pouch_contents) \n",
        "\n",
        "  def __repr__(self):\n",
        "        return self.__str__()  \n",
        "\n",
        "kanga = Kangaroo([1,2])\n",
        "roo = Kangaroo([3,4])\n",
        "a=kanga.put_in_pouch(roo.pouch_contents)\n",
        "print(kanga)\n",
        "print(a)"
      ],
      "execution_count": 172,
      "outputs": [
        {
          "output_type": "stream",
          "text": [
            "kangaroo has[1, 2, [3, 4]]\n",
            "[1, 2, [3, 4]]\n"
          ],
          "name": "stdout"
        }
      ]
    },
    {
      "cell_type": "code",
      "metadata": {
        "id": "j4HzHR4oZtB4",
        "colab_type": "code",
        "colab": {
          "base_uri": "https://localhost:8080/",
          "height": 68
        },
        "outputId": "b78884aa-a5c8-4c65-a8f2-726a787d7e89"
      },
      "source": [
        "#Task6\n",
        "class Vehicle:  \n",
        "  pass \n",
        "class LandVehicle(Vehicle):  \n",
        "  pass \n",
        "class TrackedVehicle(LandVehicle):  \n",
        "  pass \n",
        "for cl1 in [Vehicle, LandVehicle, TrackedVehicle]:  \n",
        "  for cl2 in [Vehicle, LandVehicle, TrackedVehicle]:   \n",
        "    print(issubclass(cl1,cl2),end='\\t')  \n",
        "  print() \n",
        " "
      ],
      "execution_count": 174,
      "outputs": [
        {
          "output_type": "stream",
          "text": [
            "True\tFalse\tFalse\t\n",
            "True\tTrue\tFalse\t\n",
            "True\tTrue\tTrue\t\n"
          ],
          "name": "stdout"
        }
      ]
    },
    {
      "cell_type": "code",
      "metadata": {
        "id": "jLF-GCJKbKDb",
        "colab_type": "code",
        "colab": {
          "base_uri": "https://localhost:8080/",
          "height": 68
        },
        "outputId": "73f6270f-f11f-45ab-a957-639effe96d1f"
      },
      "source": [
        "#Task7\n",
        "class Vehicle:  \n",
        "  pass \n",
        "class LandVehicle(Vehicle):  \n",
        "  pass \n",
        "class TrackedVehicle(LandVehicle): \n",
        "  pass \n",
        " \n",
        "vehicle = Vehicle() \n",
        "landvehicle = LandVehicle() \n",
        "trackedvehicle = TrackedVehicle() \n",
        " \n",
        "for ob in [vehicle, landvehicle, trackedvehicle]:  \n",
        "  for cl in [Vehicle, LandVehicle, TrackedVehicle]:   \n",
        "    print(isinstance(ob,cl),end='\\t')  \n",
        "  print() \n",
        " "
      ],
      "execution_count": 176,
      "outputs": [
        {
          "output_type": "stream",
          "text": [
            "True\tFalse\tFalse\t\n",
            "True\tTrue\tFalse\t\n",
            "True\tTrue\tTrue\t\n"
          ],
          "name": "stdout"
        }
      ]
    },
    {
      "cell_type": "code",
      "metadata": {
        "id": "vxLw4iCxbyUM",
        "colab_type": "code",
        "colab": {
          "base_uri": "https://localhost:8080/",
          "height": 34
        },
        "outputId": "0d489e8b-1614-47c3-e411-c2ca64ba54ea"
      },
      "source": [
        "#Q1\n",
        "class Point():\n",
        "  def __add__(self,other):\n",
        "    if isinstance(other,Point):\n",
        "      return self.add_point(other)\n",
        "    else:\n",
        "      return self.print_point(other)\n",
        "\n",
        "  def add_point(self,other):\n",
        "    sumx = self.x + other.x\n",
        "    sumy = self.y + other.y\n",
        "    total = ('%d, %d') % (sumx, sumy)\n",
        "    return total\n",
        "\n",
        "  def print_point(self):\n",
        "    print('%d %d'.format(self.x, self.y))\n",
        "  \n",
        "  def __str__(self):\n",
        "      return str(self.x) +','+ str(self.y)\n",
        "  def __repr__(self):\n",
        "      return self.__str__() \n",
        "blank = Point()\n",
        "blank.x = (3,3)\n",
        "blank.y = 5\n",
        "blank1 = Point()\n",
        "blank1.x = 5\n",
        "blank1.y = 6\n",
        "print(blank)"
      ],
      "execution_count": 195,
      "outputs": [
        {
          "output_type": "stream",
          "text": [
            "(3, 3),5\n"
          ],
          "name": "stdout"
        }
      ]
    },
    {
      "cell_type": "code",
      "metadata": {
        "id": "zwpJewngfQDQ",
        "colab_type": "code",
        "colab": {
          "base_uri": "https://localhost:8080/",
          "height": 102
        },
        "outputId": "01e9e13e-db3b-4945-bcc3-9f53866b40bc"
      },
      "source": [
        "#Q2\n",
        "class ip:\n",
        "  def __init__(self,list):\n",
        "    self.li=list\n",
        "  def __str__(self):\n",
        "    return str(self.li)\n",
        "  def __repr__(self):\n",
        "      return self.__str__()\n",
        "  def getNetwork(self):\n",
        "    if self.li[1] == 8:\n",
        "      return list((self.li[0][0],0,0,0))\n",
        "    elif self.li[1] == 16:\n",
        "      return list((self.li[0][0],self.li[0][1],0,0))\n",
        "    elif self.li[1] == 24:\n",
        "      return list((self.li[0][0],self.li[0][1],self.li[0][2],0))\n",
        "  def getMask(self):\n",
        "    if self.li[1] == 8:\n",
        "       return list((255,0,0,0))\n",
        "    elif self.li[1] == 16:\n",
        "      return list((255,255,0,0))\n",
        "    elif self.li[1] == 24:\n",
        "       return list((255,255,255,0))\n",
        "  def getAddress(self):\n",
        "        return self.li[0]\n",
        "  def getWildcardmask(self):\n",
        "    if self.li[1] == 8:\n",
        "     return list((0,0,0,255))\n",
        "    if self.li[1] == 16:\n",
        "     return list((0,0,255,255))\n",
        "    if self.li[1] == 24:\n",
        "     return list((0,255,255,255))\n",
        "\n",
        "ipv4=ip([[10,0,1,7],24])\n",
        "print(\"[ipv4 address, range]=\",ipv4)\n",
        "print(\"network id=\",ipv4.getNetwork())\n",
        "print(\"subnet mask=\",ipv4.getMask())\n",
        "print(\"ip address=\",ipv4.getAddress())\n",
        "print(\"wildcard mask=\",ipv4.getWildcardmask())\n"
      ],
      "execution_count": 226,
      "outputs": [
        {
          "output_type": "stream",
          "text": [
            "[ipv4 address, range]= [[10, 0, 1, 7], 24]\n",
            "network id= [10, 0, 1, 0]\n",
            "subnet mask= [255, 255, 255, 0]\n",
            "ip address= [10, 0, 1, 7]\n",
            "wildcard mask= [0, 255, 255, 255]\n"
          ],
          "name": "stdout"
        }
      ]
    },
    {
      "cell_type": "code",
      "metadata": {
        "id": "eTCm2kyJlHxF",
        "colab_type": "code",
        "colab": {}
      },
      "source": [
        "#Q3"
      ],
      "execution_count": 0,
      "outputs": []
    }
  ]
}